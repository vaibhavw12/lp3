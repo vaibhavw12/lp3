{
 "cells": [
  {
   "cell_type": "code",
   "execution_count": 19,
   "metadata": {
    "collapsed": true,
    "pycharm": {
     "name": "#%%\n"
    }
   },
   "outputs": [],
   "source": [
    "import pandas as pd\n",
    "from keras.models import Sequential\n",
    "from keras.layers import Dense\n",
    "from sklearn.model_selection import train_test_split\n",
    "from sklearn.preprocessing import StandardScaler"
   ]
  },
  {
   "cell_type": "code",
   "execution_count": 20,
   "outputs": [
    {
     "data": {
      "text/plain": "   RowNumber  CustomerId   Surname  CreditScore Geography  Gender  Age  \\\n0          1    15634602  Hargrave          619    France  Female   42   \n1          2    15647311      Hill          608     Spain  Female   41   \n2          3    15619304      Onio          502    France  Female   42   \n3          4    15701354      Boni          699    France  Female   39   \n4          5    15737888  Mitchell          850     Spain  Female   43   \n\n   Tenure    Balance  NumOfProducts  HasCrCard  IsActiveMember  \\\n0       2       0.00              1          1               1   \n1       1   83807.86              1          0               1   \n2       8  159660.80              3          1               0   \n3       1       0.00              2          0               0   \n4       2  125510.82              1          1               1   \n\n   EstimatedSalary  Exited  \n0        101348.88       1  \n1        112542.58       0  \n2        113931.57       1  \n3         93826.63       0  \n4         79084.10       0  ",
      "text/html": "<div>\n<style scoped>\n    .dataframe tbody tr th:only-of-type {\n        vertical-align: middle;\n    }\n\n    .dataframe tbody tr th {\n        vertical-align: top;\n    }\n\n    .dataframe thead th {\n        text-align: right;\n    }\n</style>\n<table border=\"1\" class=\"dataframe\">\n  <thead>\n    <tr style=\"text-align: right;\">\n      <th></th>\n      <th>RowNumber</th>\n      <th>CustomerId</th>\n      <th>Surname</th>\n      <th>CreditScore</th>\n      <th>Geography</th>\n      <th>Gender</th>\n      <th>Age</th>\n      <th>Tenure</th>\n      <th>Balance</th>\n      <th>NumOfProducts</th>\n      <th>HasCrCard</th>\n      <th>IsActiveMember</th>\n      <th>EstimatedSalary</th>\n      <th>Exited</th>\n    </tr>\n  </thead>\n  <tbody>\n    <tr>\n      <th>0</th>\n      <td>1</td>\n      <td>15634602</td>\n      <td>Hargrave</td>\n      <td>619</td>\n      <td>France</td>\n      <td>Female</td>\n      <td>42</td>\n      <td>2</td>\n      <td>0.00</td>\n      <td>1</td>\n      <td>1</td>\n      <td>1</td>\n      <td>101348.88</td>\n      <td>1</td>\n    </tr>\n    <tr>\n      <th>1</th>\n      <td>2</td>\n      <td>15647311</td>\n      <td>Hill</td>\n      <td>608</td>\n      <td>Spain</td>\n      <td>Female</td>\n      <td>41</td>\n      <td>1</td>\n      <td>83807.86</td>\n      <td>1</td>\n      <td>0</td>\n      <td>1</td>\n      <td>112542.58</td>\n      <td>0</td>\n    </tr>\n    <tr>\n      <th>2</th>\n      <td>3</td>\n      <td>15619304</td>\n      <td>Onio</td>\n      <td>502</td>\n      <td>France</td>\n      <td>Female</td>\n      <td>42</td>\n      <td>8</td>\n      <td>159660.80</td>\n      <td>3</td>\n      <td>1</td>\n      <td>0</td>\n      <td>113931.57</td>\n      <td>1</td>\n    </tr>\n    <tr>\n      <th>3</th>\n      <td>4</td>\n      <td>15701354</td>\n      <td>Boni</td>\n      <td>699</td>\n      <td>France</td>\n      <td>Female</td>\n      <td>39</td>\n      <td>1</td>\n      <td>0.00</td>\n      <td>2</td>\n      <td>0</td>\n      <td>0</td>\n      <td>93826.63</td>\n      <td>0</td>\n    </tr>\n    <tr>\n      <th>4</th>\n      <td>5</td>\n      <td>15737888</td>\n      <td>Mitchell</td>\n      <td>850</td>\n      <td>Spain</td>\n      <td>Female</td>\n      <td>43</td>\n      <td>2</td>\n      <td>125510.82</td>\n      <td>1</td>\n      <td>1</td>\n      <td>1</td>\n      <td>79084.10</td>\n      <td>0</td>\n    </tr>\n  </tbody>\n</table>\n</div>"
     },
     "execution_count": 20,
     "metadata": {},
     "output_type": "execute_result"
    }
   ],
   "source": [
    "raw_data = pd.read_csv(\"Churn_Modelling.csv\")\n",
    "raw_data.head()"
   ],
   "metadata": {
    "collapsed": false,
    "pycharm": {
     "name": "#%%\n"
    }
   }
  },
  {
   "cell_type": "code",
   "execution_count": 23,
   "outputs": [],
   "source": [
    "data_req = raw_data.drop([\"RowNumber\", \"CustomerId\", \"Surname\", \"Geography\"], axis = 1)"
   ],
   "metadata": {
    "collapsed": false,
    "pycharm": {
     "name": "#%%\n"
    }
   }
  },
  {
   "cell_type": "code",
   "execution_count": 25,
   "outputs": [],
   "source": [
    "X = data_req.drop(['Exited'], axis = 1)\n",
    "Y = data_req['Exited']\n",
    "X['Gender'] = X['Gender'].map({'Female': 0, 'Male': 1})\n",
    "X = StandardScaler().fit_transform(X)\n",
    "\n",
    "X_train, X_test, Y_train, Y_test = train_test_split(X, Y, train_size=0.25, random_state=365)"
   ],
   "metadata": {
    "collapsed": false,
    "pycharm": {
     "name": "#%%\n"
    }
   }
  },
  {
   "cell_type": "code",
   "execution_count": 26,
   "outputs": [
    {
     "name": "stdout",
     "output_type": "stream",
     "text": [
      "Epoch 1/100\n",
      "167/167 [==============================] - 2s 3ms/step - loss: 0.4749 - accuracy: 0.7884\n",
      "Epoch 2/100\n",
      "167/167 [==============================] - 0s 3ms/step - loss: 0.4059 - accuracy: 0.8360\n",
      "Epoch 3/100\n",
      "167/167 [==============================] - 1s 4ms/step - loss: 0.4010 - accuracy: 0.8308\n",
      "Epoch 4/100\n",
      "167/167 [==============================] - 1s 3ms/step - loss: 0.3927 - accuracy: 0.8424\n",
      "Epoch 5/100\n",
      "167/167 [==============================] - 1s 3ms/step - loss: 0.3811 - accuracy: 0.8460\n",
      "Epoch 6/100\n",
      "167/167 [==============================] - 1s 3ms/step - loss: 0.3835 - accuracy: 0.8416\n",
      "Epoch 7/100\n",
      "167/167 [==============================] - 0s 3ms/step - loss: 0.3758 - accuracy: 0.8420\n",
      "Epoch 8/100\n",
      "167/167 [==============================] - 0s 3ms/step - loss: 0.3757 - accuracy: 0.8456\n",
      "Epoch 9/100\n",
      "167/167 [==============================] - 0s 3ms/step - loss: 0.3676 - accuracy: 0.8492\n",
      "Epoch 10/100\n",
      "167/167 [==============================] - 0s 3ms/step - loss: 0.3668 - accuracy: 0.8480\n",
      "Epoch 11/100\n",
      "167/167 [==============================] - 0s 3ms/step - loss: 0.3606 - accuracy: 0.8488\n",
      "Epoch 12/100\n",
      "167/167 [==============================] - 0s 3ms/step - loss: 0.3586 - accuracy: 0.8508\n",
      "Epoch 13/100\n",
      "167/167 [==============================] - 0s 3ms/step - loss: 0.3555 - accuracy: 0.8564\n",
      "Epoch 14/100\n",
      "167/167 [==============================] - 0s 3ms/step - loss: 0.3528 - accuracy: 0.8540\n",
      "Epoch 15/100\n",
      "167/167 [==============================] - 0s 3ms/step - loss: 0.3452 - accuracy: 0.8584\n",
      "Epoch 16/100\n",
      "167/167 [==============================] - 0s 3ms/step - loss: 0.3410 - accuracy: 0.8572\n",
      "Epoch 17/100\n",
      "167/167 [==============================] - 0s 3ms/step - loss: 0.3312 - accuracy: 0.8624\n",
      "Epoch 18/100\n",
      "167/167 [==============================] - 0s 3ms/step - loss: 0.3305 - accuracy: 0.8616\n",
      "Epoch 19/100\n",
      "167/167 [==============================] - 0s 3ms/step - loss: 0.3235 - accuracy: 0.8648\n",
      "Epoch 20/100\n",
      "167/167 [==============================] - 0s 3ms/step - loss: 0.3186 - accuracy: 0.8672\n",
      "Epoch 21/100\n",
      "167/167 [==============================] - 0s 3ms/step - loss: 0.3117 - accuracy: 0.8768\n",
      "Epoch 22/100\n",
      "167/167 [==============================] - 0s 3ms/step - loss: 0.3033 - accuracy: 0.8724\n",
      "Epoch 23/100\n",
      "167/167 [==============================] - 0s 3ms/step - loss: 0.2991 - accuracy: 0.8764\n",
      "Epoch 24/100\n",
      "167/167 [==============================] - 0s 3ms/step - loss: 0.2933 - accuracy: 0.8772\n",
      "Epoch 25/100\n",
      "167/167 [==============================] - 0s 3ms/step - loss: 0.2851 - accuracy: 0.8804\n",
      "Epoch 26/100\n",
      "167/167 [==============================] - 0s 3ms/step - loss: 0.2770 - accuracy: 0.8876\n",
      "Epoch 27/100\n",
      "167/167 [==============================] - 0s 3ms/step - loss: 0.2685 - accuracy: 0.8868\n",
      "Epoch 28/100\n",
      "167/167 [==============================] - 0s 3ms/step - loss: 0.2647 - accuracy: 0.8856\n",
      "Epoch 29/100\n",
      "167/167 [==============================] - 0s 3ms/step - loss: 0.2552 - accuracy: 0.8928\n",
      "Epoch 30/100\n",
      "167/167 [==============================] - 0s 3ms/step - loss: 0.2414 - accuracy: 0.9004\n",
      "Epoch 31/100\n",
      "167/167 [==============================] - 0s 3ms/step - loss: 0.2339 - accuracy: 0.9004\n",
      "Epoch 32/100\n",
      "167/167 [==============================] - 0s 3ms/step - loss: 0.2260 - accuracy: 0.9068\n",
      "Epoch 33/100\n",
      "167/167 [==============================] - 0s 3ms/step - loss: 0.2131 - accuracy: 0.9108\n",
      "Epoch 34/100\n",
      "167/167 [==============================] - 1s 3ms/step - loss: 0.2053 - accuracy: 0.9140\n",
      "Epoch 35/100\n",
      "167/167 [==============================] - 0s 3ms/step - loss: 0.1923 - accuracy: 0.9216\n",
      "Epoch 36/100\n",
      "167/167 [==============================] - 0s 3ms/step - loss: 0.1850 - accuracy: 0.9264\n",
      "Epoch 37/100\n",
      "167/167 [==============================] - 0s 3ms/step - loss: 0.1760 - accuracy: 0.9300\n",
      "Epoch 38/100\n",
      "167/167 [==============================] - 0s 3ms/step - loss: 0.1678 - accuracy: 0.9360\n",
      "Epoch 39/100\n",
      "167/167 [==============================] - 0s 3ms/step - loss: 0.1573 - accuracy: 0.9404\n",
      "Epoch 40/100\n",
      "167/167 [==============================] - 0s 3ms/step - loss: 0.1462 - accuracy: 0.9448\n",
      "Epoch 41/100\n",
      "167/167 [==============================] - 0s 3ms/step - loss: 0.1405 - accuracy: 0.9488\n",
      "Epoch 42/100\n",
      "167/167 [==============================] - 0s 3ms/step - loss: 0.1294 - accuracy: 0.9532\n",
      "Epoch 43/100\n",
      "167/167 [==============================] - 0s 3ms/step - loss: 0.1221 - accuracy: 0.9620\n",
      "Epoch 44/100\n",
      "167/167 [==============================] - 0s 3ms/step - loss: 0.1141 - accuracy: 0.9644\n",
      "Epoch 45/100\n",
      "167/167 [==============================] - 0s 3ms/step - loss: 0.1062 - accuracy: 0.9656\n",
      "Epoch 46/100\n",
      "167/167 [==============================] - 0s 3ms/step - loss: 0.1001 - accuracy: 0.9700\n",
      "Epoch 47/100\n",
      "167/167 [==============================] - 0s 3ms/step - loss: 0.0935 - accuracy: 0.9732\n",
      "Epoch 48/100\n",
      "167/167 [==============================] - 0s 3ms/step - loss: 0.0871 - accuracy: 0.9772\n",
      "Epoch 49/100\n",
      "167/167 [==============================] - 0s 3ms/step - loss: 0.0794 - accuracy: 0.9764\n",
      "Epoch 50/100\n",
      "167/167 [==============================] - 0s 3ms/step - loss: 0.0775 - accuracy: 0.9788\n",
      "Epoch 51/100\n",
      "167/167 [==============================] - 0s 3ms/step - loss: 0.0664 - accuracy: 0.9860\n",
      "Epoch 52/100\n",
      "167/167 [==============================] - 0s 3ms/step - loss: 0.0612 - accuracy: 0.9876\n",
      "Epoch 53/100\n",
      "167/167 [==============================] - 0s 3ms/step - loss: 0.0558 - accuracy: 0.9872\n",
      "Epoch 54/100\n",
      "167/167 [==============================] - 0s 3ms/step - loss: 0.0528 - accuracy: 0.9892\n",
      "Epoch 55/100\n",
      "167/167 [==============================] - 0s 3ms/step - loss: 0.0513 - accuracy: 0.9904\n",
      "Epoch 56/100\n",
      "167/167 [==============================] - 0s 3ms/step - loss: 0.0466 - accuracy: 0.9904\n",
      "Epoch 57/100\n",
      "167/167 [==============================] - 0s 3ms/step - loss: 0.0411 - accuracy: 0.9928\n",
      "Epoch 58/100\n",
      "167/167 [==============================] - 0s 3ms/step - loss: 0.0373 - accuracy: 0.9924\n",
      "Epoch 59/100\n",
      "167/167 [==============================] - 0s 3ms/step - loss: 0.0359 - accuracy: 0.9944\n",
      "Epoch 60/100\n",
      "167/167 [==============================] - 0s 3ms/step - loss: 0.0297 - accuracy: 0.9948\n",
      "Epoch 61/100\n",
      "167/167 [==============================] - 0s 3ms/step - loss: 0.0399 - accuracy: 0.9936\n",
      "Epoch 62/100\n",
      "167/167 [==============================] - 0s 3ms/step - loss: 0.0389 - accuracy: 0.9920\n",
      "Epoch 63/100\n",
      "167/167 [==============================] - 0s 3ms/step - loss: 0.0290 - accuracy: 0.9940\n",
      "Epoch 64/100\n",
      "167/167 [==============================] - 0s 3ms/step - loss: 0.0250 - accuracy: 0.9964\n",
      "Epoch 65/100\n",
      "167/167 [==============================] - 0s 3ms/step - loss: 0.0227 - accuracy: 0.9972\n",
      "Epoch 66/100\n",
      "167/167 [==============================] - 0s 3ms/step - loss: 0.0188 - accuracy: 0.9984\n",
      "Epoch 67/100\n",
      "167/167 [==============================] - 0s 3ms/step - loss: 0.0202 - accuracy: 0.9972\n",
      "Epoch 68/100\n",
      "167/167 [==============================] - 0s 3ms/step - loss: 0.0196 - accuracy: 0.9972\n",
      "Epoch 69/100\n",
      "167/167 [==============================] - 0s 3ms/step - loss: 0.0196 - accuracy: 0.9964\n",
      "Epoch 70/100\n",
      "167/167 [==============================] - 0s 3ms/step - loss: 0.0266 - accuracy: 0.9952\n",
      "Epoch 71/100\n",
      "167/167 [==============================] - 0s 3ms/step - loss: 0.0392 - accuracy: 0.9892\n",
      "Epoch 72/100\n",
      "167/167 [==============================] - 0s 3ms/step - loss: 0.0210 - accuracy: 0.9972\n",
      "Epoch 73/100\n",
      "167/167 [==============================] - 0s 3ms/step - loss: 0.0175 - accuracy: 0.9972\n",
      "Epoch 74/100\n",
      "167/167 [==============================] - 0s 3ms/step - loss: 0.0171 - accuracy: 0.9976\n",
      "Epoch 75/100\n",
      "167/167 [==============================] - 0s 3ms/step - loss: 0.0094 - accuracy: 0.9988\n",
      "Epoch 76/100\n",
      "167/167 [==============================] - 0s 3ms/step - loss: 0.0101 - accuracy: 0.9988\n",
      "Epoch 77/100\n",
      "167/167 [==============================] - 0s 3ms/step - loss: 0.0081 - accuracy: 0.9996\n",
      "Epoch 78/100\n",
      "167/167 [==============================] - 0s 3ms/step - loss: 0.0103 - accuracy: 0.9984\n",
      "Epoch 79/100\n",
      "167/167 [==============================] - 0s 3ms/step - loss: 0.0101 - accuracy: 0.9980\n",
      "Epoch 80/100\n",
      "167/167 [==============================] - 0s 3ms/step - loss: 0.0209 - accuracy: 0.9948\n",
      "Epoch 81/100\n",
      "167/167 [==============================] - 1s 3ms/step - loss: 0.0448 - accuracy: 0.9856\n",
      "Epoch 82/100\n",
      "167/167 [==============================] - 0s 3ms/step - loss: 0.0183 - accuracy: 0.9964\n",
      "Epoch 83/100\n",
      "167/167 [==============================] - 0s 3ms/step - loss: 0.0087 - accuracy: 0.9992\n",
      "Epoch 84/100\n",
      "167/167 [==============================] - 0s 3ms/step - loss: 0.0067 - accuracy: 0.9992\n",
      "Epoch 85/100\n",
      "167/167 [==============================] - 0s 3ms/step - loss: 0.0065 - accuracy: 0.9992\n",
      "Epoch 86/100\n",
      "167/167 [==============================] - 0s 3ms/step - loss: 0.0065 - accuracy: 0.9988\n",
      "Epoch 87/100\n",
      "167/167 [==============================] - 0s 3ms/step - loss: 0.0122 - accuracy: 0.9980\n",
      "Epoch 88/100\n",
      "167/167 [==============================] - 0s 3ms/step - loss: 0.0102 - accuracy: 0.9984\n",
      "Epoch 89/100\n",
      "167/167 [==============================] - 0s 3ms/step - loss: 0.0074 - accuracy: 0.9984\n",
      "Epoch 90/100\n",
      "167/167 [==============================] - 0s 3ms/step - loss: 0.0045 - accuracy: 0.9992\n",
      "Epoch 91/100\n",
      "167/167 [==============================] - 0s 3ms/step - loss: 0.0047 - accuracy: 0.9988\n",
      "Epoch 92/100\n",
      "167/167 [==============================] - 0s 3ms/step - loss: 0.0048 - accuracy: 0.9984\n",
      "Epoch 93/100\n",
      "167/167 [==============================] - 0s 2ms/step - loss: 0.0097 - accuracy: 0.9972\n",
      "Epoch 94/100\n",
      "167/167 [==============================] - 0s 3ms/step - loss: 0.0254 - accuracy: 0.9908\n",
      "Epoch 95/100\n",
      "167/167 [==============================] - 0s 3ms/step - loss: 0.0326 - accuracy: 0.9884\n",
      "Epoch 96/100\n",
      "167/167 [==============================] - 0s 3ms/step - loss: 0.0315 - accuracy: 0.9912\n",
      "Epoch 97/100\n",
      "167/167 [==============================] - 0s 3ms/step - loss: 0.0176 - accuracy: 0.9952\n",
      "Epoch 98/100\n",
      "167/167 [==============================] - 0s 3ms/step - loss: 0.0096 - accuracy: 0.9984\n",
      "Epoch 99/100\n",
      "167/167 [==============================] - 0s 3ms/step - loss: 0.0047 - accuracy: 0.9992\n",
      "Epoch 100/100\n",
      "167/167 [==============================] - 0s 3ms/step - loss: 0.0030 - accuracy: 0.9996\n"
     ]
    },
    {
     "data": {
      "text/plain": "<keras.callbacks.History at 0x249d3c26020>"
     },
     "execution_count": 26,
     "metadata": {},
     "output_type": "execute_result"
    }
   ],
   "source": [
    "model = Sequential()\n",
    "model.add(Dense(150, input_dim = 9, activation = 'tanh'))\n",
    "model.add(Dense(150, activation='tanh'))\n",
    "model.add(Dense(150, activation='tanh'))\n",
    "\n",
    "model.add(Dense(1, activation='sigmoid'))\n",
    "model.compile(loss='binary_crossentropy', optimizer='adam', metrics = ['accuracy'])\n",
    "model.fit(X_train, Y_train, epochs=100, batch_size=15)"
   ],
   "metadata": {
    "collapsed": false,
    "pycharm": {
     "name": "#%%\n"
    }
   }
  },
  {
   "cell_type": "code",
   "execution_count": 27,
   "outputs": [
    {
     "name": "stdout",
     "output_type": "stream",
     "text": [
      "235/235 [==============================] - 1s 2ms/step - loss: 0.9754 - accuracy: 0.8089\n"
     ]
    }
   ],
   "source": [
    "accuracy = model.evaluate(X_test, Y_test)"
   ],
   "metadata": {
    "collapsed": false,
    "pycharm": {
     "name": "#%%\n"
    }
   }
  },
  {
   "cell_type": "code",
   "execution_count": 42,
   "outputs": [
    {
     "name": "stdout",
     "output_type": "stream",
     "text": [
      "235/235 [==============================] - 1s 2ms/step\n"
     ]
    }
   ],
   "source": [
    "y_pred = model.predict(X_test)\n",
    "y_pred[y_pred>0.5]=1\n",
    "y_pred[y_pred<0.5]=0"
   ],
   "metadata": {
    "collapsed": false,
    "pycharm": {
     "name": "#%%\n"
    }
   }
  },
  {
   "cell_type": "code",
   "execution_count": 47,
   "outputs": [],
   "source": [
    "y_pred = y_pred.astype(int)"
   ],
   "metadata": {
    "collapsed": false,
    "pycharm": {
     "name": "#%%\n"
    }
   }
  },
  {
   "cell_type": "code",
   "execution_count": 48,
   "outputs": [],
   "source": [
    "pred = pd.DataFrame()\n",
    "ytest = pd.DataFrame()\n",
    "pred['prediction'] = pd.DataFrame(y_pred)\n",
    "ytest['test_data'] = pd.DataFrame(Y_test)"
   ],
   "metadata": {
    "collapsed": false,
    "pycharm": {
     "name": "#%%\n"
    }
   }
  },
  {
   "cell_type": "code",
   "execution_count": 52,
   "outputs": [],
   "source": [
    "pred['prediction'] = pred['prediction'].map({0: \"No\", 1:\"Yes\" })\n",
    "ytest['test_data'] = ytest['test_data'].map({0: \"No\", 1:\"Yes\" })"
   ],
   "metadata": {
    "collapsed": false,
    "pycharm": {
     "name": "#%%\n"
    }
   }
  },
  {
   "cell_type": "code",
   "execution_count": 54,
   "outputs": [
    {
     "name": "stdout",
     "output_type": "stream",
     "text": [
      "[[5345  612]\n",
      " [ 821  722]]\n",
      "              precision    recall  f1-score   support\n",
      "\n",
      "          No       0.87      0.90      0.88      5957\n",
      "         Yes       0.54      0.47      0.50      1543\n",
      "\n",
      "    accuracy                           0.81      7500\n",
      "   macro avg       0.70      0.68      0.69      7500\n",
      "weighted avg       0.80      0.81      0.80      7500\n",
      "\n"
     ]
    }
   ],
   "source": [
    "from sklearn.metrics import classification_report, confusion_matrix\n",
    "cm = confusion_matrix(ytest, pred)\n",
    "print(cm)\n",
    "print(classification_report(ytest, pred))"
   ],
   "metadata": {
    "collapsed": false,
    "pycharm": {
     "name": "#%%\n"
    }
   }
  }
 ],
 "metadata": {
  "kernelspec": {
   "display_name": "Python 3",
   "language": "python",
   "name": "python3"
  },
  "language_info": {
   "codemirror_mode": {
    "name": "ipython",
    "version": 2
   },
   "file_extension": ".py",
   "mimetype": "text/x-python",
   "name": "python",
   "nbconvert_exporter": "python",
   "pygments_lexer": "ipython2",
   "version": "2.7.6"
  }
 },
 "nbformat": 4,
 "nbformat_minor": 0
}